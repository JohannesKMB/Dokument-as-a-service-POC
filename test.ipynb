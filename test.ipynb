{
 "cells": [
  {
   "cell_type": "code",
   "execution_count": 1,
   "metadata": {},
   "outputs": [
    {
     "name": "stderr",
     "output_type": "stream",
     "text": [
      "c:\\Users\\Karl\\Code\\Nexa\\.venv\\Lib\\site-packages\\tqdm\\auto.py:21: TqdmWarning: IProgress not found. Please update jupyter and ipywidgets. See https://ipywidgets.readthedocs.io/en/stable/user_install.html\n",
      "  from .autonotebook import tqdm as notebook_tqdm\n",
      "Special tokens have been added in the vocabulary, make sure the associated word embeddings are fine-tuned or trained.\n",
      "Special tokens have been added in the vocabulary, make sure the associated word embeddings are fine-tuned or trained.\n",
      "c:\\Users\\Karl\\Code\\Nexa\\.venv\\Lib\\site-packages\\transformers\\generation\\utils.py:1141: UserWarning: Using the model-agnostic default `max_length` (=20) to control the generation length. We recommend setting `max_new_tokens` to control the maximum length of the generation.\n",
      "  warnings.warn(\n"
     ]
    },
    {
     "name": "stdout",
     "output_type": "stream",
     "text": [
      "May 1, 1985\n"
     ]
    },
    {
     "data": {
      "text/plain": [
       "0.003260869565217391"
      ]
     },
     "execution_count": 1,
     "metadata": {},
     "output_type": "execute_result"
    }
   ],
   "source": [
    "from transformers import AutoProcessor, UdopForConditionalGeneration\n",
    "from datasets import load_dataset\n",
    "\n",
    "# load model and processor\n",
    "# in this case, we already have performed OCR ourselves\n",
    "# so we initialize the processor with `apply_ocr=False`\n",
    "processor = AutoProcessor.from_pretrained(\"microsoft/udop-large\", apply_ocr=False)\n",
    "model = UdopForConditionalGeneration.from_pretrained(\"microsoft/udop-large\")\n",
    "\n",
    "# load an example image, along with the words and coordinates\n",
    "# which were extracted using an OCR engine\n",
    "dataset = load_dataset(\"nielsr/funsd-layoutlmv3\", split=\"train\")\n",
    "example = dataset[0]\n",
    "image = example[\"image\"]\n",
    "words = example[\"tokens\"]\n",
    "boxes = example[\"bboxes\"]\n",
    "question = \"Question answering. What is the date on the form?\"\n",
    "\n",
    "# prepare everything for the model\n",
    "encoding = processor(image, question, words, boxes=boxes, return_tensors=\"pt\")\n",
    "\n",
    "# autoregressive generation\n",
    "predicted_ids = model.generate(**encoding)\n",
    "print(processor.batch_decode(predicted_ids, skip_special_tokens=True)[0])\n",
    "9/30/92"
   ]
  },
  {
   "cell_type": "code",
   "execution_count": 13,
   "metadata": {},
   "outputs": [],
   "source": [
    "example['image'].show()"
   ]
  },
  {
   "cell_type": "code",
   "execution_count": null,
   "metadata": {},
   "outputs": [],
   "source": [
    "import pytesseract\n",
    "path = r'C:\\Users\\Karl\\AppData\\Local\\Programs\\Tesseract-OCR\\tesseract.exe'\n",
    "pytesseract.pytesseract.tesseract_cmd = path\n",
    "\n",
    "processor = AutoProcessor.from_pretrained(\"microsoft/udop-large\", apply_ocr=True)"
   ]
  },
  {
   "cell_type": "code",
   "execution_count": 10,
   "metadata": {},
   "outputs": [
    {
     "name": "stdout",
     "output_type": "stream",
     "text": [
      "9/3/92\n"
     ]
    }
   ],
   "source": [
    "\n",
    "example = dataset[0]\n",
    "image = example[\"image\"]\n",
    "question = \"Question answering. What is the date?\"\n",
    "\n",
    "# prepare everything for the model\n",
    "#encoding = processor(image, question, words, boxes=boxes, return_tensors=\"pt\")\n",
    "encoding = processor(image, question, return_tensors=\"pt\")\n",
    "\n",
    "# autoregressive generation\n",
    "predicted_ids = model.generate(**encoding)\n",
    "print(processor.batch_decode(predicted_ids, skip_special_tokens=True)[0])"
   ]
  }
 ],
 "metadata": {
  "kernelspec": {
   "display_name": ".venv",
   "language": "python",
   "name": "python3"
  },
  "language_info": {
   "codemirror_mode": {
    "name": "ipython",
    "version": 3
   },
   "file_extension": ".py",
   "mimetype": "text/x-python",
   "name": "python",
   "nbconvert_exporter": "python",
   "pygments_lexer": "ipython3",
   "version": "3.11.3"
  }
 },
 "nbformat": 4,
 "nbformat_minor": 2
}
